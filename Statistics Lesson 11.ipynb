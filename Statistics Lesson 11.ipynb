{
 "cells": [
  {
   "cell_type": "code",
   "execution_count": 1,
   "metadata": {
    "collapsed": true
   },
   "outputs": [],
   "source": [
    "import pandas as pd\n",
    "import numpy as np\n",
    "import scipy as sp\n",
    "from scipy.stats import norm\n",
    "import matplotlib\n",
    "from matplotlib import pyplot as plt\n",
    "import matplotlib.mlab as mlab\n",
    "import statsmodels as sm\n",
    "%matplotlib inline"
   ]
  },
  {
   "cell_type": "markdown",
   "metadata": {},
   "source": [
    "# Lesson 11: t-Tests, Part3"
   ]
  },
  {
   "cell_type": "markdown",
   "metadata": {},
   "source": [
    "## Independent Samples t-test thoughts"
   ]
  },
  {
   "cell_type": "markdown",
   "metadata": {},
   "source": [
    "Pooled Variance vs Total Standard Error"
   ]
  },
  {
   "cell_type": "markdown",
   "metadata": {},
   "source": [
    "**Pooled Variance**\n",
    "\n",
    "$$SS_x = \\sum({x_i - \\bar{x}})^2$$\n",
    "$$SS_y = \\sum({y_i - \\bar{y}})^2$$\n",
    "\n",
    "$$S_p^2 = \\frac{SS_x + SS_y}{df_x + df_y}$$\n",
    "\n",
    "Assumptions\n",
    "1. $X$ and $Y$ are from random samples from two independent populations\n",
    "1. Populations that X and Y come from should be approximtely normal\n",
    "1. Sample data can estimate population variances\n",
    "1. Population variances should be roughly equal\n",
    "\n",
    "\n",
    "\n",
    "**Standard Error (total)**\n",
    "$$S_{\\bar{x} - \\bar{y}} = \\sqrt{\\frac{S_p^2}{n_x} + \\frac{S_p^2}{n_y}}$$"
   ]
  },
  {
   "cell_type": "markdown",
   "metadata": {},
   "source": [
    "## Pooled Variance"
   ]
  },
  {
   "cell_type": "code",
   "execution_count": 173,
   "metadata": {
    "collapsed": false
   },
   "outputs": [
    {
     "data": {
      "text/plain": [
       "(2.0, 6.0)"
      ]
     },
     "execution_count": 173,
     "metadata": {},
     "output_type": "execute_result"
    }
   ],
   "source": [
    "x = [5, 6, 1, -4]\n",
    "y = [3, 7, 8]\n",
    "mean_x = np.mean(x)\n",
    "mean_y = np.mean(y)\n",
    "sigma_x = np.std(x, ddof=1)\n",
    "sigma_y = np.std(y, ddof=1)\n",
    "mean_x, mean_y"
   ]
  },
  {
   "cell_type": "markdown",
   "metadata": {},
   "source": [
    "#### Calculate Pooled Variance: $S_p^2$"
   ]
  },
  {
   "cell_type": "markdown",
   "metadata": {},
   "source": [
    "Pooled Variance:\n",
    "$$S_p^2 = \\frac{SS_1 + SS_2}{df_1 + df_2}$$"
   ]
  },
  {
   "cell_type": "markdown",
   "metadata": {},
   "source": [
    "SS = sum of squared differences (**this isn't $\\sigma$ or $\\sigma^2$ because you're not dividing by $n$ samples**)"
   ]
  },
  {
   "cell_type": "code",
   "execution_count": 196,
   "metadata": {
    "collapsed": false
   },
   "outputs": [
    {
     "data": {
      "text/plain": [
       "15.2"
      ]
     },
     "execution_count": 196,
     "metadata": {},
     "output_type": "execute_result"
    }
   ],
   "source": [
    "pooled_variance = (62 + 14)/5.0\n",
    "pooled_variance"
   ]
  },
  {
   "cell_type": "markdown",
   "metadata": {},
   "source": [
    "Pooled variance is: 15.2\n",
    "\n",
    "$$SE = \\sqrt{\\frac{S_p^2}{n_1}+\\frac{S_p^2}{n_2}}$$"
   ]
  },
  {
   "cell_type": "markdown",
   "metadata": {},
   "source": [
    "#### Calculate Corrected Standard Error"
   ]
  },
  {
   "cell_type": "markdown",
   "metadata": {},
   "source": [
    "$$se_{x-y} = \\sqrt{\\frac{S_p^2}{n_1}+\\frac{S_p^2}{n_2}}$$"
   ]
  },
  {
   "cell_type": "code",
   "execution_count": 199,
   "metadata": {
    "collapsed": false
   },
   "outputs": [
    {
     "data": {
      "text/plain": [
       "2.9776948578836393"
      ]
     },
     "execution_count": 199,
     "metadata": {},
     "output_type": "execute_result"
    }
   ],
   "source": [
    "se_corrected = np.sqrt(pooled_variance/len(x) + pooled_variance/len(y))\n",
    "se_corrected"
   ]
  },
  {
   "cell_type": "code",
   "execution_count": 182,
   "metadata": {
    "collapsed": false
   },
   "outputs": [
    {
     "data": {
      "text/plain": [
       "15.5"
      ]
     },
     "execution_count": 182,
     "metadata": {},
     "output_type": "execute_result"
    }
   ],
   "source": [
    "np.std(x)**2"
   ]
  },
  {
   "cell_type": "markdown",
   "metadata": {},
   "source": [
    "#### Calculate t-statistic"
   ]
  },
  {
   "cell_type": "markdown",
   "metadata": {},
   "source": [
    "Recall: t-statistic\n",
    "$$t = \\frac{(\\bar{x} - \\mu)}{se}$$"
   ]
  },
  {
   "cell_type": "markdown",
   "metadata": {},
   "source": [
    "But now let's apply it to the diffrence of sample means and the population means ( of which we expect none).  Our standard error will be the 'corrected standard error' calculated from the $x$'s and $y$'s"
   ]
  },
  {
   "cell_type": "markdown",
   "metadata": {},
   "source": [
    "$$t_{statistic} = \\frac{(\\bar{x} - \\bar{y}) - (\\mu_x - \\mu_y)}{S_{\\bar{x} - \\bar{y}}}$$"
   ]
  },
  {
   "cell_type": "code",
   "execution_count": 200,
   "metadata": {
    "collapsed": false
   },
   "outputs": [
    {
     "data": {
      "text/plain": [
       "-1.343320988518935"
      ]
     },
     "execution_count": 200,
     "metadata": {},
     "output_type": "execute_result"
    }
   ],
   "source": [
    "(mean_x - mean_y)/float(se_corrected)"
   ]
  },
  {
   "cell_type": "markdown",
   "metadata": {},
   "source": [
    "#### Calculate t-critical value"
   ]
  },
  {
   "cell_type": "markdown",
   "metadata": {},
   "source": [
    "Recall: t-critical is the value at which the t_statistic because significant"
   ]
  },
  {
   "cell_type": "markdown",
   "metadata": {},
   "source": [
    "$$\\alpha = .05$$\n",
    "$$SE = 2.978$$"
   ]
  },
  {
   "cell_type": "code",
   "execution_count": 203,
   "metadata": {
    "collapsed": false
   },
   "outputs": [
    {
     "data": {
      "text/plain": [
       "2.5705818366147395"
      ]
     },
     "execution_count": 203,
     "metadata": {},
     "output_type": "execute_result"
    }
   ],
   "source": [
    "dof = len(x) + len(y) -2\n",
    "sp.stats.t.ppf(1- .05/2.0,dof) "
   ]
  },
  {
   "cell_type": "markdown",
   "metadata": {},
   "source": [
    "#### Retain Null"
   ]
  },
  {
   "cell_type": "markdown",
   "metadata": {},
   "source": [
    "## Shoe Quantities: Male vs Female"
   ]
  },
  {
   "cell_type": "markdown",
   "metadata": {},
   "source": [
    "Who has more shoes, males or females"
   ]
  },
  {
   "cell_type": "markdown",
   "metadata": {},
   "source": [
    "#### Null Hypothesis"
   ]
  },
  {
   "cell_type": "markdown",
   "metadata": {},
   "source": [
    "$$H_0\\; : \\bar{x}_m = \\bar{x}_f$$\n",
    "$$H_A\\; : \\bar{x}_m \\neq \\bar{x}_f$$"
   ]
  },
  {
   "cell_type": "markdown",
   "metadata": {},
   "source": [
    "#### Import data"
   ]
  },
  {
   "cell_type": "code",
   "execution_count": 92,
   "metadata": {
    "collapsed": false
   },
   "outputs": [],
   "source": [
    "shoes = pd.DataFrame.from_csv('/Users/ryanlambert/Downloads/Shoes - Lesson 11 - Sheet1.csv')\n",
    "shoes = shoes.reset_index()"
   ]
  },
  {
   "cell_type": "markdown",
   "metadata": {},
   "source": [
    "#### Calculate summary statistics"
   ]
  },
  {
   "cell_type": "code",
   "execution_count": 134,
   "metadata": {
    "collapsed": false
   },
   "outputs": [
    {
     "data": {
      "text/plain": [
       "{'dof_female': 6,\n",
       " 'dof_male': 10,\n",
       " 'mean_female': 33.142857142857146,\n",
       " 'mean_male': 18.0,\n",
       " 'n_female': 7,\n",
       " 'n_male': 11,\n",
       " 'sigma_female': 31.360423952430722,\n",
       " 'sigma_male': 34.272437905699093}"
      ]
     },
     "execution_count": 134,
     "metadata": {},
     "output_type": "execute_result"
    }
   ],
   "source": [
    "mean_female = shoes['Pairs of shoes (females)'].mean()\n",
    "mean_male = shoes['Pairs of shoes (males)'].mean()\n",
    "sigma_female = shoes['Pairs of shoes (females)'].std(ddof=1)\n",
    "sigma_male = shoes['Pairs of shoes (males)'].std(ddof=1)\n",
    "n_female = shoes['Pairs of shoes (females)'].count()\n",
    "n_male = shoes['Pairs of shoes (males)'].count()\n",
    "dof_female = n_female - 1\n",
    "dof_male = n_male - 1\n",
    "{\n",
    "    \"mean_female\":mean_female, \n",
    "    \"mean_male\":mean_male, \n",
    "    \"sigma_female\":sigma_female, \n",
    "    \"sigma_male\":sigma_male, \n",
    "    \"n_female\":n_female, \n",
    "    \"n_male\":n_male, \n",
    "    \"dof_female\":dof_female,\n",
    "    \"dof_male\":dof_male\n",
    "}"
   ]
  },
  {
   "cell_type": "markdown",
   "metadata": {},
   "source": [
    "#### Calculate t-statistic\n",
    "\n",
    "why are we using t-statistic?  \n",
    "\n",
    "We're using t-statistic because we're inferring something about a population even though we have no data on the population.  The t-table is more conservative.  (particularly that and the degrees of freedom use instead of $n$)"
   ]
  },
  {
   "cell_type": "markdown",
   "metadata": {},
   "source": [
    "recall: when doing t-statistic between to populations based on one sample from each population we must include standard error from both populations.  They're combined thusly: \n",
    "\n",
    "$$SE_{total} = \\sqrt{\\frac{\\sigma_1^2}{n_1}+\\frac{\\sigma_2^2}{n_2}}$$"
   ]
  },
  {
   "cell_type": "code",
   "execution_count": 135,
   "metadata": {
    "collapsed": false
   },
   "outputs": [
    {
     "data": {
      "text/plain": [
       "15.725088769901236"
      ]
     },
     "execution_count": 135,
     "metadata": {},
     "output_type": "execute_result"
    }
   ],
   "source": [
    "se = np.sqrt((sigma_male**2/n_male) + (sigma_female**2/n_female))\n",
    "se"
   ]
  },
  {
   "cell_type": "markdown",
   "metadata": {},
   "source": [
    "recall:\n",
    "$$t = \\frac{\\bar{x} - \\mu}{SE}$$"
   ]
  },
  {
   "cell_type": "code",
   "execution_count": 136,
   "metadata": {
    "collapsed": false
   },
   "outputs": [
    {
     "data": {
      "text/plain": [
       "0.96297435037959744"
      ]
     },
     "execution_count": 136,
     "metadata": {},
     "output_type": "execute_result"
    }
   ],
   "source": [
    "t_statistic = (mean_female - mean_male)/se\n",
    "t_statistic"
   ]
  },
  {
   "cell_type": "markdown",
   "metadata": {},
   "source": [
    "#### Calculate P-Value"
   ]
  },
  {
   "cell_type": "markdown",
   "metadata": {},
   "source": [
    "Recall \n",
    "$$p = f(t, dof_{total})$$"
   ]
  },
  {
   "cell_type": "code",
   "execution_count": 137,
   "metadata": {
    "collapsed": true
   },
   "outputs": [],
   "source": [
    "dof_total = dof_male + dof_female"
   ]
  },
  {
   "cell_type": "markdown",
   "metadata": {},
   "source": [
    "Recall\n",
    "t-table returns area under the curve left of this point.  Since t is positive and we're interested in the"
   ]
  },
  {
   "cell_type": "code",
   "execution_count": 140,
   "metadata": {
    "collapsed": false
   },
   "outputs": [
    {
     "data": {
      "text/plain": [
       "0.34988961442139677"
      ]
     },
     "execution_count": 140,
     "metadata": {},
     "output_type": "execute_result"
    }
   ],
   "source": [
    "(1 - sp.stats.t.cdf(t_statistic, dof_total)) * 2"
   ]
  },
  {
   "cell_type": "markdown",
   "metadata": {},
   "source": [
    "$$ p = .359$$"
   ]
  },
  {
   "cell_type": "markdown",
   "metadata": {},
   "source": [
    "#### Calculate Critical P-value"
   ]
  },
  {
   "cell_type": "markdown",
   "metadata": {},
   "source": [
    "recall: \n",
    "$$p = f(alpha, dof)$$\n",
    "\n",
    "$$dof_{total} = dof_{male} + dof_{female}$$"
   ]
  },
  {
   "cell_type": "code",
   "execution_count": 139,
   "metadata": {
    "collapsed": false
   },
   "outputs": [
    {
     "data": {
      "text/plain": [
       "-2.1199052992210112"
      ]
     },
     "execution_count": 139,
     "metadata": {},
     "output_type": "execute_result"
    }
   ],
   "source": [
    "p_critical = sp.stats.t.ppf(.025, dof_total)\n",
    "p_critical"
   ]
  },
  {
   "cell_type": "markdown",
   "metadata": {},
   "source": [
    "#### Calculate confidence interval "
   ]
  },
  {
   "cell_type": "markdown",
   "metadata": {},
   "source": [
    "Recall: Confidence interval is an upper and lower bound.  \n",
    "\n",
    "$$upperbound = \\bar{x} + E_{margin}$$\n",
    "$$lowerbound = \\bar{x} - E_{margin}$$\n",
    "$$margin = f(alpha, se)$$\n",
    "\n",
    "Confidence intervals are two sided"
   ]
  },
  {
   "cell_type": "code",
   "execution_count": 154,
   "metadata": {
    "collapsed": false
   },
   "outputs": [
    {
     "data": {
      "text/plain": [
       "(33.335699014034439, 15.725088769901236, 0.05, 2.1199052992210112)"
      ]
     },
     "execution_count": 154,
     "metadata": {},
     "output_type": "execute_result"
    }
   ],
   "source": [
    "confidence = .95\n",
    "alpha = .05\n",
    "margin = se * sp.stats.t.ppf(1 - alpha/2.0, dof_total)\n",
    "margin, se, alpha, sp.stats.t.ppf(1 - alpha/2.0, dof_total)"
   ]
  },
  {
   "cell_type": "code",
   "execution_count": 166,
   "metadata": {
    "collapsed": false
   },
   "outputs": [
    {
     "data": {
      "text/plain": [
       "15.142857142857146"
      ]
     },
     "execution_count": 166,
     "metadata": {},
     "output_type": "execute_result"
    }
   ],
   "source": [
    "mean_difference = mean_female - mean_male\n",
    "mean_difference"
   ]
  },
  {
   "cell_type": "markdown",
   "metadata": {},
   "source": [
    "both standard errors contribute to the standard error of the differences in the means.  \n",
    "\n",
    "Our confidence interval will be applied to the mean difference.  \n",
    "\n",
    "$$ \\bar{x} \\pm se*t(confidence\\%, dof_{total})$$"
   ]
  },
  {
   "cell_type": "code",
   "execution_count": 167,
   "metadata": {
    "collapsed": false
   },
   "outputs": [
    {
     "data": {
      "text/plain": [
       "(-18.192841871177293, 48.478556156891585)"
      ]
     },
     "execution_count": 167,
     "metadata": {},
     "output_type": "execute_result"
    }
   ],
   "source": [
    "upperbound_mean_difference = mean_difference + se * sp.stats.t.ppf(\n",
    "    .975, \n",
    "    dof_total\n",
    "    )\n",
    "lowerbound_mean_difference = mean_difference - se * sp.stats.t.ppf(\n",
    "    .975, \n",
    "    dof_total\n",
    "    )\n",
    "lowerbound_mean_difference, upperbound_mean_difference"
   ]
  },
  {
   "cell_type": "code",
   "execution_count": 168,
   "metadata": {
    "collapsed": false
   },
   "outputs": [
    {
     "data": {
      "text/plain": [
       "(15.142857142857146, 0.96297435037959744, 15.725088769901236)"
      ]
     },
     "execution_count": 168,
     "metadata": {},
     "output_type": "execute_result"
    }
   ],
   "source": [
    "mean_difference, t_statistic, se"
   ]
  },
  {
   "cell_type": "markdown",
   "metadata": {},
   "source": [
    "#### Calculate $ R^2$"
   ]
  },
  {
   "cell_type": "markdown",
   "metadata": {},
   "source": [
    "recall: $$R^2 = \\frac{t^2}{(t^2 + dof)}$$"
   ]
  },
  {
   "cell_type": "code",
   "execution_count": 169,
   "metadata": {
    "collapsed": false
   },
   "outputs": [
    {
     "data": {
      "text/plain": [
       "0.05478242400037163"
      ]
     },
     "execution_count": 169,
     "metadata": {},
     "output_type": "execute_result"
    }
   ],
   "source": [
    "r_squared = t_statistic**2/(t_statistic**2 + dof_total)\n",
    "r_squared"
   ]
  },
  {
   "cell_type": "markdown",
   "metadata": {},
   "source": [
    "## Acne"
   ]
  },
  {
   "cell_type": "markdown",
   "metadata": {},
   "source": [
    "Does this drug have an effect on acne or not?  "
   ]
  },
  {
   "cell_type": "markdown",
   "metadata": {},
   "source": [
    "#### Establish Null Hypothesis"
   ]
  },
  {
   "cell_type": "markdown",
   "metadata": {},
   "source": [
    "$$H_0 \\;: \\; \\mu_A = \\mu_B$$\n",
    "$$H_A \\;: \\; \\mu_A \\neq \\mu_B$$"
   ]
  },
  {
   "cell_type": "markdown",
   "metadata": {},
   "source": [
    "#### Calcuate t-statistic"
   ]
  },
  {
   "cell_type": "markdown",
   "metadata": {},
   "source": [
    "recall: t-statistic is the number of standard errors one sample mean is from another mean.  "
   ]
  },
  {
   "cell_type": "code",
   "execution_count": 86,
   "metadata": {
    "collapsed": true
   },
   "outputs": [],
   "source": [
    "samples_drugA = [40, 36, 20, 32, 45, 28]\n",
    "samples_drugB = [41, 39, 18, 23, 35]\n",
    "\n",
    "n_drugA = len(samples_drugA)\n",
    "n_drugB = len(samples_drugB)\n",
    "\n",
    "dof_drugA = n_drugA - 1\n",
    "dof_drugB = n_drugB - 1\n",
    "dof_AandB = dof_drugA + dof_drugB\n",
    "\n",
    "se = np.sqrt(np.std(samples_drugA, ddof = 1)**2/n_drugA + np.std(samples_drugB, ddof=1)**2/n_drugB)\n",
    "mean_drugA = np.mean(samples_drugA)\n",
    "mean_drugB = np.mean(samples_drugB)"
   ]
  },
  {
   "cell_type": "markdown",
   "metadata": {},
   "source": [
    "recall \n",
    "$$t = \\frac{\\mu_A - \\mu_B}{SE}$$"
   ]
  },
  {
   "cell_type": "markdown",
   "metadata": {},
   "source": [
    "also recall for total standard error \n",
    "\n",
    "$$SE_{total} = \\sqrt{\\frac{\\sigma_1^2}{n_1}+\\frac{\\sigma_2^2}{n_2}}$$\n",
    "\n",
    "You forgot to square the $\\sigma$'s"
   ]
  },
  {
   "cell_type": "code",
   "execution_count": 87,
   "metadata": {
    "collapsed": false
   },
   "outputs": [
    {
     "data": {
      "text/plain": [
       "0.39547554497329268"
      ]
     },
     "execution_count": 87,
     "metadata": {},
     "output_type": "execute_result"
    }
   ],
   "source": [
    "t_statistic = (mean_drugA - mean_drugB)/float(se)\n",
    "t_statistic"
   ]
  },
  {
   "cell_type": "markdown",
   "metadata": {},
   "source": [
    "#### Calculate p-value"
   ]
  },
  {
   "cell_type": "markdown",
   "metadata": {},
   "source": [
    "recall: p-value is the probability of getting this result by chance for a given $\\alpha$ or probability\n",
    "\n",
    "Also recall: \n",
    "For two tailed tests we need to get the area under the curve for each side.  So once you get the area under the curve on the left side multiply that by 2.  "
   ]
  },
  {
   "cell_type": "code",
   "execution_count": 75,
   "metadata": {
    "collapsed": false
   },
   "outputs": [
    {
     "data": {
      "text/plain": [
       "0.67128571750622212"
      ]
     },
     "execution_count": 75,
     "metadata": {},
     "output_type": "execute_result"
    }
   ],
   "source": [
    "(1 - sp.stats.t.cdf(t_statistic, dof_AandB)) * 2\n"
   ]
  },
  {
   "cell_type": "markdown",
   "metadata": {},
   "source": [
    "$p = .671$\n",
    "\n"
   ]
  },
  {
   "cell_type": "markdown",
   "metadata": {},
   "source": [
    "Results are not significant"
   ]
  },
  {
   "cell_type": "markdown",
   "metadata": {},
   "source": [
    "#### Calculate *t-critical* values"
   ]
  },
  {
   "cell_type": "markdown",
   "metadata": {},
   "source": [
    "recall: t-critical values are the limits of significance based on given probabilities of significance.  \n",
    "\n",
    "i.e. What are the t_statistics above which we would accept the null hypothesis or a given significance or $\\alpha$"
   ]
  },
  {
   "cell_type": "markdown",
   "metadata": {},
   "source": [
    "This is a two tailed test so $\\alpha = .05$ equates to .025 on each side of the distribution.  "
   ]
  },
  {
   "cell_type": "code",
   "execution_count": 88,
   "metadata": {
    "collapsed": false
   },
   "outputs": [
    {
     "data": {
      "text/plain": [
       "-2.262157162740992"
      ]
     },
     "execution_count": 88,
     "metadata": {},
     "output_type": "execute_result"
    }
   ],
   "source": [
    "alpha = .05\n",
    "sp.stats.t.ppf(alpha/2.0, dof_AandB)"
   ]
  },
  {
   "cell_type": "markdown",
   "metadata": {},
   "source": [
    "## Food Prices"
   ]
  },
  {
   "cell_type": "markdown",
   "metadata": {},
   "source": [
    "Find the cheapest town to eat in based on samples from both towns.  \n",
    "\n",
    "This is a t-test since we don't have population parameters.  "
   ]
  },
  {
   "cell_type": "markdown",
   "metadata": {},
   "source": [
    "Load raw data into dataFrame"
   ]
  },
  {
   "cell_type": "code",
   "execution_count": 6,
   "metadata": {
    "collapsed": true
   },
   "outputs": [],
   "source": [
    "food_prices = pd.DataFrame.from_csv('/Users/ryanlambert/Downloads/Food Prices - Lesson 11 - Sheet1.csv')\n",
    "food_prices = food_prices.reset_index()"
   ]
  },
  {
   "cell_type": "code",
   "execution_count": 19,
   "metadata": {
    "collapsed": false
   },
   "outputs": [],
   "source": [
    "mean_gettysburg, mean_wilma = food_prices.mean()"
   ]
  },
  {
   "cell_type": "code",
   "execution_count": 18,
   "metadata": {
    "collapsed": false
   },
   "outputs": [],
   "source": [
    "sigma_gettysburg, sigma_wilma = food_prices.std()"
   ]
  },
  {
   "cell_type": "code",
   "execution_count": 26,
   "metadata": {
    "collapsed": false
   },
   "outputs": [],
   "source": [
    "n_gettysburg = food_prices['Average meal prices at restaurants in Gettysburg ($)'].count()"
   ]
  },
  {
   "cell_type": "code",
   "execution_count": 25,
   "metadata": {
    "collapsed": false
   },
   "outputs": [],
   "source": [
    "n_wilma = food_prices['Average meal prices at restaurants in Wilma ($)'].count()"
   ]
  },
  {
   "cell_type": "markdown",
   "metadata": {},
   "source": [
    "#### Null Hypothesis"
   ]
  },
  {
   "cell_type": "markdown",
   "metadata": {},
   "source": [
    "$$H_0 \\; : \\; \\mu_G = \\mu_W$$ \n",
    "\n",
    "no difference\n",
    "\n",
    "$$H_A \\; : \\; \\mu_G \\neq \\mu_W$$ \n",
    "\n",
    "difference\n",
    "\n",
    "Since we don't know which way the difference will go we'll make this a **two tailed** t-test"
   ]
  },
  {
   "cell_type": "markdown",
   "metadata": {},
   "source": [
    "#### Calculate Standard Error"
   ]
  },
  {
   "cell_type": "markdown",
   "metadata": {},
   "source": [
    "Recall:  Standard error is $\\frac{\\sigma}{\\sqrt{n}}$\n",
    "\n",
    "But since we're comparing two samples that each have their own standard error, the total standard error will be.  \n",
    "\n",
    "$$SE_{\\bar{x}_G - \\bar{x}_W} = \\sqrt{\\frac{\\sigma_G^{2}}{n_G} + \\frac{\\sigma_W^{2}}{n_W}}$$"
   ]
  },
  {
   "cell_type": "markdown",
   "metadata": {},
   "source": [
    "To_understand: When is this used?  Is it used when we are looking at net differences?  "
   ]
  },
  {
   "cell_type": "code",
   "execution_count": 28,
   "metadata": {
    "collapsed": false
   },
   "outputs": [
    {
     "data": {
      "text/plain": [
       "0.85311008476772265"
      ]
     },
     "execution_count": 28,
     "metadata": {},
     "output_type": "execute_result"
    }
   ],
   "source": [
    "se = np.sqrt((sigma_gettysburg**2)/n_gettysburg + (sigma_wilma**2)/n_wilma)\n",
    "se"
   ]
  },
  {
   "cell_type": "markdown",
   "metadata": {},
   "source": [
    "#### Calculate t-Statistic"
   ]
  },
  {
   "cell_type": "markdown",
   "metadata": {},
   "source": [
    "recall: t-Statistic is measured in standard errors.  How far in standard errors, a given intervention is from a mean.  \n",
    "\n",
    "$$\\frac{\\bar{x} - \\mu}{SE}$$\n",
    "\n",
    "In this case it could be either \n",
    "\n",
    "$$\\frac{\\bar{x_G} - \\bar{x_W}}{SE_{\\bar{x}_G-\\bar{x}_W}}$$\n",
    "\n",
    "or \n",
    "\n",
    "$$\\frac{\\bar{x_W} - \\bar{x_G}}{SE_{\\bar{x}_G-\\bar{x}_W}}$$\n",
    "\n",
    "Since we're measuring difference.  "
   ]
  },
  {
   "cell_type": "code",
   "execution_count": 30,
   "metadata": {
    "collapsed": false
   },
   "outputs": [
    {
     "data": {
      "text/plain": [
       "-2.5769390582356815"
      ]
     },
     "execution_count": 30,
     "metadata": {},
     "output_type": "execute_result"
    }
   ],
   "source": [
    "t_statistic = (mean_gettysburg - mean_wilma)/float(se)\n",
    "t_statistic"
   ]
  },
  {
   "cell_type": "markdown",
   "metadata": {},
   "source": [
    "#### Calculate P-Value"
   ]
  },
  {
   "cell_type": "markdown",
   "metadata": {},
   "source": [
    "recall: P-Value is the probability that this value could have been obtained by chance.  \n",
    "\n",
    "P-Value is calculated from the t-statistic and $dof$ in this case instead of $n$ because of dependence within the samples and that we're inferring about the population from these samples.  "
   ]
  },
  {
   "cell_type": "markdown",
   "metadata": {},
   "source": [
    "But what do I use for $dof$ when I clearly have two different $n$'s\n",
    "\n",
    "$$n_W = 14,\\; n_G = 18$$"
   ]
  },
  {
   "cell_type": "markdown",
   "metadata": {},
   "source": [
    "##### Answer\n",
    "The $dof$ or $n$ is just the addition of the two of them together \n",
    "\n",
    "$$n = n_G + n_W$$\n",
    "\n",
    "and likewise, because $dof = n - 1$\n",
    "\n",
    "$$dof_{total} = (dof_G) + (dof_W)$$\n",
    "\n",
    "$$dof_{total} = (n_G - 1) + (n_W - 1)$$\n",
    "\n",
    "$$dof_{total} = n_G + n_W -2$$"
   ]
  },
  {
   "cell_type": "code",
   "execution_count": 35,
   "metadata": {
    "collapsed": true
   },
   "outputs": [],
   "source": [
    "n_total = n_gettysburg + n_wilma\n",
    "dof = n_total - 2"
   ]
  },
  {
   "cell_type": "code",
   "execution_count": 37,
   "metadata": {
    "collapsed": false
   },
   "outputs": [
    {
     "data": {
      "text/plain": [
       "0.0075647325763756549"
      ]
     },
     "execution_count": 37,
     "metadata": {},
     "output_type": "execute_result"
    }
   ],
   "source": [
    "sp.stats.t.cdf(t_statistic, dof)"
   ]
  },
  {
   "cell_type": "markdown",
   "metadata": {},
   "source": [
    "Because this is a **Two Tailed** test, we're going to get the area on both sides of the curve.  So we multiply this result by two.  "
   ]
  },
  {
   "cell_type": "code",
   "execution_count": 40,
   "metadata": {
    "collapsed": false
   },
   "outputs": [
    {
     "data": {
      "text/plain": [
       "0.01512946515275131"
      ]
     },
     "execution_count": 40,
     "metadata": {},
     "output_type": "execute_result"
    }
   ],
   "source": [
    "p = sp.stats.t.cdf(t_statistic, dof)*2\n",
    "p"
   ]
  },
  {
   "cell_type": "markdown",
   "metadata": {},
   "source": [
    "#### Calculate Critical Value"
   ]
  },
  {
   "cell_type": "markdown",
   "metadata": {},
   "source": [
    "Recall: Critical value is the t_statistic at which the results are significant.  The critical value is a function of **desired significance** and **standard error**.  The output is **number of standard errors from the mean**\n",
    "\n",
    "Also recall: since this is a two tailed test, .05 alpha would correspond to .025 on each side of the distribution.  "
   ]
  },
  {
   "cell_type": "code",
   "execution_count": 51,
   "metadata": {
    "collapsed": false
   },
   "outputs": [
    {
     "data": {
      "text/plain": [
       "2.0422724563012373"
      ]
     },
     "execution_count": 51,
     "metadata": {},
     "output_type": "execute_result"
    }
   ],
   "source": [
    "alpha = .05\n",
    "t_critical = sp.stats.t.ppf(1 - alpha/2.0, dof)\n",
    "t_critical"
   ]
  },
  {
   "cell_type": "markdown",
   "metadata": {},
   "source": [
    "#### Evaluate our Null Hypothesis"
   ]
  },
  {
   "cell_type": "code",
   "execution_count": 54,
   "metadata": {
    "collapsed": false
   },
   "outputs": [
    {
     "name": "stdout",
     "output_type": "stream",
     "text": [
      "t-statistic is:  -2.57693905824\n",
      "t-critical value is:  2.0422724563\n"
     ]
    }
   ],
   "source": [
    "print \"t-statistic is: \", t_statistic\n",
    "print \"t-critical value is: \", t_critical"
   ]
  },
  {
   "cell_type": "markdown",
   "metadata": {},
   "source": [
    "**We reject the Null Hypothesis**\n",
    "\n",
    "The prices are significantly different at $p = .01513$"
   ]
  },
  {
   "cell_type": "code",
   "execution_count": null,
   "metadata": {
    "collapsed": true
   },
   "outputs": [],
   "source": []
  },
  {
   "cell_type": "code",
   "execution_count": null,
   "metadata": {
    "collapsed": true
   },
   "outputs": [],
   "source": []
  },
  {
   "cell_type": "code",
   "execution_count": null,
   "metadata": {
    "collapsed": true
   },
   "outputs": [],
   "source": []
  },
  {
   "cell_type": "code",
   "execution_count": null,
   "metadata": {
    "collapsed": true
   },
   "outputs": [],
   "source": []
  },
  {
   "cell_type": "code",
   "execution_count": null,
   "metadata": {
    "collapsed": true
   },
   "outputs": [],
   "source": []
  },
  {
   "cell_type": "code",
   "execution_count": null,
   "metadata": {
    "collapsed": true
   },
   "outputs": [],
   "source": []
  }
 ],
 "metadata": {
  "kernelspec": {
   "display_name": "Python 2",
   "language": "python",
   "name": "python2"
  },
  "language_info": {
   "codemirror_mode": {
    "name": "ipython",
    "version": 2
   },
   "file_extension": ".py",
   "mimetype": "text/x-python",
   "name": "python",
   "nbconvert_exporter": "python",
   "pygments_lexer": "ipython2",
   "version": "2.7.9"
  }
 },
 "nbformat": 4,
 "nbformat_minor": 0
}
