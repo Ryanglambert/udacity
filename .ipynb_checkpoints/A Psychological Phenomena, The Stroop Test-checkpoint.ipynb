{
 "cells": [
  {
   "cell_type": "code",
   "execution_count": 3,
   "metadata": {
    "collapsed": true
   },
   "outputs": [],
   "source": [
    "import pandas as pd\n",
    "import numpy as np\n",
    "import scipy as sp\n",
    "from scipy.stats import norm\n",
    "import matplotlib\n",
    "from matplotlib import pyplot as plt\n",
    "import matplotlib.mlab as mlab\n",
    "import statsmodels as sm\n",
    "%matplotlib inline"
   ]
  },
  {
   "cell_type": "markdown",
   "metadata": {},
   "source": [
    "# What do we usually infer from something like the \"Stroop Test\"\n",
    "\n"
   ]
  },
  {
   "cell_type": "markdown",
   "metadata": {},
   "source": [
    "#### Q 1: Identify Variables in Experiment"
   ]
  },
  {
   "cell_type": "markdown",
   "metadata": {},
   "source": [
    "#### Load data"
   ]
  },
  {
   "cell_type": "code",
   "execution_count": 4,
   "metadata": {
    "collapsed": true
   },
   "outputs": [],
   "source": [
    "stroop = pd.DataFrame.from_csv('/Users/ryanlambert/Downloads/stroopdata.csv - stroopdata.csv.csv')"
   ]
  },
  {
   "cell_type": "code",
   "execution_count": 5,
   "metadata": {
    "collapsed": false
   },
   "outputs": [],
   "source": [
    "stroop = stroop.reset_index()"
   ]
  },
  {
   "cell_type": "markdown",
   "metadata": {},
   "source": [
    "#### Independent variables: "
   ]
  },
  {
   "cell_type": "markdown",
   "metadata": {},
   "source": [
    "Congruence/Incongruence condition of the word/color set.  "
   ]
  },
  {
   "cell_type": "markdown",
   "metadata": {},
   "source": [
    "#### Dependent Variables"
   ]
  },
  {
   "cell_type": "markdown",
   "metadata": {},
   "source": [
    "Time taken to identify the colors for the entire set of word/color combinations.  "
   ]
  },
  {
   "cell_type": "markdown",
   "metadata": {},
   "source": [
    "#### Q2: What is an appropriate Null Hypothesis for this data?"
   ]
  },
  {
   "cell_type": "markdown",
   "metadata": {},
   "source": [
    "## Which Test?: Dependent Samples Two Tailed T-Test\n",
    "\n",
    "The samples(observations) are 'paired'/'dependent'.  Each observation in 'congruent' has a dependent sample(observation) in the 'incongruent' case.  \n",
    "\n",
    "Since we're measuring difference it is appropriate to treat each difference as a sample.  Therefore, $n=24$ samples.  "
   ]
  },
  {
   "cell_type": "markdown",
   "metadata": {},
   "source": [
    "An appropriate null hypothesis is that there is no difference between congruence and incongruence test time.  \n",
    "\n",
    "$$\\mu_c = mean\\; score\\;for\\; congruence$$\n",
    "$$\\mu_i = mean\\; score\\;for\\; incongruence$$\n",
    "\n",
    "$$H_0\\;:\\mu_i - \\mu_c = 0$$\n",
    "$$H_A\\;:\\mu_i - \\mu_c \\neq 0$$\n",
    "\n",
    "\n",
    "We will use a **two - tailed** test since we don't know if the 'incongruence' test will result in longer or shorter times.  \n",
    "\n",
    "Since we're interested in what these results mean for the population of humanity and not just the participants, we will use a **t-test**.  \n",
    "\n",
    "A t-test provides t-statistics based on sample_statistics to infer about the parameters of a population.  A t-test is more conservative than z-score to make up for it's assumptions that $\\sigma_{sample} \\approx \\sigma_{population}$ and $\\mu_{sample} \\approx \\mu_{mean}$\n",
    "\n",
    "We use t-tests when we don't know population $\\mu$ and $\\sigma$\n",
    "\n",
    "Since the experiment is a **repeated measures** design, the samples are dependent to some degree. (Each data point in 'Congruent' is paired with a data point in 'Incongruent')  "
   ]
  },
  {
   "cell_type": "markdown",
   "metadata": {},
   "source": [
    "reference: http://sites.stat.psu.edu/~ajw13/stat500_su_res/notes/lesson10/lesson10_02.html"
   ]
  },
  {
   "cell_type": "markdown",
   "metadata": {},
   "source": [
    "#### Q3: Report Descriptive Stats"
   ]
  },
  {
   "cell_type": "code",
   "execution_count": 6,
   "metadata": {
    "collapsed": false
   },
   "outputs": [
    {
     "data": {
      "text/html": [
       "<div>\n",
       "<table border=\"1\" class=\"dataframe\">\n",
       "  <thead>\n",
       "    <tr style=\"text-align: right;\">\n",
       "      <th></th>\n",
       "      <th>Congruent</th>\n",
       "      <th>Incongruent</th>\n",
       "    </tr>\n",
       "  </thead>\n",
       "  <tbody>\n",
       "    <tr>\n",
       "      <th>count</th>\n",
       "      <td>24.000000</td>\n",
       "      <td>24.000000</td>\n",
       "    </tr>\n",
       "    <tr>\n",
       "      <th>mean</th>\n",
       "      <td>14.051125</td>\n",
       "      <td>22.015917</td>\n",
       "    </tr>\n",
       "    <tr>\n",
       "      <th>std</th>\n",
       "      <td>3.559358</td>\n",
       "      <td>4.797057</td>\n",
       "    </tr>\n",
       "    <tr>\n",
       "      <th>min</th>\n",
       "      <td>8.630000</td>\n",
       "      <td>15.687000</td>\n",
       "    </tr>\n",
       "    <tr>\n",
       "      <th>25%</th>\n",
       "      <td>11.895250</td>\n",
       "      <td>18.716750</td>\n",
       "    </tr>\n",
       "    <tr>\n",
       "      <th>50%</th>\n",
       "      <td>14.356500</td>\n",
       "      <td>21.017500</td>\n",
       "    </tr>\n",
       "    <tr>\n",
       "      <th>75%</th>\n",
       "      <td>16.200750</td>\n",
       "      <td>24.051500</td>\n",
       "    </tr>\n",
       "    <tr>\n",
       "      <th>max</th>\n",
       "      <td>22.328000</td>\n",
       "      <td>35.255000</td>\n",
       "    </tr>\n",
       "  </tbody>\n",
       "</table>\n",
       "</div>"
      ],
      "text/plain": [
       "       Congruent  Incongruent\n",
       "count  24.000000    24.000000\n",
       "mean   14.051125    22.015917\n",
       "std     3.559358     4.797057\n",
       "min     8.630000    15.687000\n",
       "25%    11.895250    18.716750\n",
       "50%    14.356500    21.017500\n",
       "75%    16.200750    24.051500\n",
       "max    22.328000    35.255000"
      ]
     },
     "execution_count": 6,
     "metadata": {},
     "output_type": "execute_result"
    }
   ],
   "source": [
    "stroop.describe() ### :-)"
   ]
  },
  {
   "cell_type": "markdown",
   "metadata": {},
   "source": [
    "#### Q4: Visualization"
   ]
  },
  {
   "cell_type": "code",
   "execution_count": 7,
   "metadata": {
    "collapsed": false
   },
   "outputs": [
    {
     "data": {
      "text/plain": [
       "<matplotlib.axes._subplots.AxesSubplot at 0x10d8db650>"
      ]
     },
     "execution_count": 7,
     "metadata": {},
     "output_type": "execute_result"
    },
    {
     "data": {
      "image/png": "[encoded data removed]",
      "text/plain": [
       "<matplotlib.figure.Figure at 0x109c981d0>"
      ]
     },
     "metadata": {},
     "output_type": "display_data"
    }
   ],
   "source": [
    "stroop['Incongruent'].plot(kind='hist', ylim=(0, 10), xlim=(0, 40), figsize=(10,5))"
   ]
  },
  {
   "cell_type": "code",
   "execution_count": 8,
   "metadata": {
    "collapsed": false
   },
   "outputs": [
    {
     "data": {
      "text/plain": [
       "<matplotlib.axes._subplots.AxesSubplot at 0x10d904c10>"
      ]
     },
     "execution_count": 8,
     "metadata": {},
     "output_type": "execute_result"
    },
    {
     "data": {
      "image/png": "[encoded data removed]",
      "text/plain": [
       "<matplotlib.figure.Figure at 0x1097c96d0>"
      ]
     },
     "metadata": {},
     "output_type": "display_data"
    }
   ],
   "source": [
    "stroop['Congruent'].plot(kind='hist', ylim=(0, 10), xlim=(0, 40), figsize=(10,5))"
   ]
  },
  {
   "cell_type": "code",
   "execution_count": 105,
   "metadata": {
    "collapsed": false
   },
   "outputs": [
    {
     "data": {
      "image/png": "[encoded data removed]",
      "text/plain": [
       "<matplotlib.figure.Figure at 0x10ea5c810>"
      ]
     },
     "metadata": {},
     "output_type": "display_data"
    }
   ],
   "source": [
    "fig, ax = plt.subplots()\n",
    "ax.set_xlim(0,30)\n",
    "ax.set_ylim(0,30)\n",
    "ax.set_ylabel('Incongruent')\n",
    "ax.set_xlabel('Congruent')\n",
    "ax.scatter(stroop['Congruent'], stroop['Incongruent'])\n",
    "ax.plot([0, 30], [0, 30])\n",
    "fig.set_size_inches(5, 5)\n",
    "plt.show()"
   ]
  },
  {
   "cell_type": "code",
   "execution_count": 111,
   "metadata": {
    "collapsed": false
   },
   "outputs": [
    {
     "data": {
      "text/plain": [
       "<matplotlib.axes._subplots.AxesSubplot at 0x10f34fc10>"
      ]
     },
     "execution_count": 111,
     "metadata": {},
     "output_type": "execute_result"
    },
    {
     "data": {
      "image/png": "[encoded data removed]",
      "text/plain": [
       "<matplotlib.figure.Figure at 0x10e393310>"
      ]
     },
     "metadata": {},
     "output_type": "display_data"
    }
   ],
   "source": [
    "stroop.plot(kind='box', figsize=(5,5))"
   ]
  },
  {
   "cell_type": "markdown",
   "metadata": {
    "collapsed": true
   },
   "source": [
    "From initial inspection it appears there may be a difference.  Let's look at the statistics"
   ]
  },
  {
   "cell_type": "markdown",
   "metadata": {},
   "source": [
    "#### Q5: Statistical tests"
   ]
  },
  {
   "cell_type": "markdown",
   "metadata": {
    "collapsed": true
   },
   "source": [
    "#### Calculate:   t-critical"
   ]
  },
  {
   "cell_type": "code",
   "execution_count": 30,
   "metadata": {
    "collapsed": false
   },
   "outputs": [
    {
     "name": "stdout",
     "output_type": "stream",
     "text": [
      "t-critical +-  2.06865761042\n"
     ]
    }
   ],
   "source": [
    "t_critical = sp.stats.t.ppf(.025, dof)\n",
    "print \"t-critical +- \", abs(t_critical)"
   ]
  },
  {
   "cell_type": "markdown",
   "metadata": {},
   "source": [
    "#### Calculate:t-statistic"
   ]
  },
  {
   "cell_type": "code",
   "execution_count": 31,
   "metadata": {
    "collapsed": false
   },
   "outputs": [
    {
     "name": "stdout",
     "output_type": "stream",
     "text": [
      "mean difference =  7.96479166667\n",
      "sigma difference =  4.86482691036\n",
      "n-congruence =  24\n",
      "n-incongruence =  24\n",
      "dof =  23\n"
     ]
    }
   ],
   "source": [
    "stroop_difference = stroop['Incongruent'] - stroop['Congruent']\n",
    "mean_difference = stroop_difference.mean()\n",
    "sigma_difference = stroop_difference.std()\n",
    "n_congruence = stroop['Incongruent'].count()\n",
    "n_incongruence = stroop['Congruent'].count()\n",
    "dof = n_congruence - 1\n",
    "print \"mean difference = \",stroop_difference.mean()\n",
    "print \"sigma difference = \", stroop_difference.std()\n",
    "print \"n-congruence = \", n_congruence\n",
    "print \"n-incongruence = \", n_incongruence\n",
    "print \"dof = \", n_congruence - 1"
   ]
  },
  {
   "cell_type": "markdown",
   "metadata": {
    "collapsed": true
   },
   "source": [
    "#### Calculate: Standard Error of Mean"
   ]
  },
  {
   "cell_type": "markdown",
   "metadata": {},
   "source": [
    "We shouldn't use a pooled standard error.  The different SE's come from dependent groups.  Since we'll treat the differences as our actual sample we can simply use the ordinary standard error calculation based on the differences:\n",
    "\n",
    "$$SE = \\frac{SD_{d_{I-C}}}{\\sqrt{n}}$$"
   ]
  },
  {
   "cell_type": "code",
   "execution_count": 33,
   "metadata": {
    "collapsed": false
   },
   "outputs": [
    {
     "data": {
      "text/plain": [
       "0.99302863477834091"
      ]
     },
     "execution_count": 33,
     "metadata": {},
     "output_type": "execute_result"
    }
   ],
   "source": [
    "sem = sigma_difference/np.sqrt(n_incongruence)\n",
    "sem"
   ]
  },
  {
   "cell_type": "markdown",
   "metadata": {},
   "source": [
    "recall:\n",
    "$$t = \\frac{\\bar{x} - \\mu}{SE}$$"
   ]
  },
  {
   "cell_type": "code",
   "execution_count": 42,
   "metadata": {
    "collapsed": false
   },
   "outputs": [
    {
     "name": "stdout",
     "output_type": "stream",
     "text": [
      "t =  8.02070694411\n",
      "p =  4.10300058373e-08\n"
     ]
    }
   ],
   "source": [
    "t = (mean_difference - 0)/float(sem)\n",
    "print \"t = \", t\n",
    "print \"p = \", (1 - sp.stats.t.cdf(t, dof))*2 ## because two tails"
   ]
  },
  {
   "cell_type": "markdown",
   "metadata": {},
   "source": [
    "#### Evaluate: t-test"
   ]
  },
  {
   "cell_type": "markdown",
   "metadata": {},
   "source": [
    "$$ t > t_{critical} $$\n",
    "$$ 8.021 \\geq 2.013$$\n",
    "\n",
    "**Reject the Null**\n",
    "\n",
    "$$H_0\\;:\\mu_i - \\mu_c = 0\\\\reject\\;null$$\n",
    "\n",
    "**Accept the Alternative**\n",
    "\n",
    "$$H_A\\;:\\mu_i - \\mu_c \\neq 0\\\\accept\\;alternative$$\n",
    "\n",
    "$$p = 4.103*10^{-8}$$\n",
    "$$p < .001$$ "
   ]
  },
  {
   "cell_type": "markdown",
   "metadata": {},
   "source": [
    "#### Calculate Confidence Interval"
   ]
  },
  {
   "cell_type": "markdown",
   "metadata": {},
   "source": [
    "recall:\n",
    "$$CI = f(confidence, se)$$"
   ]
  },
  {
   "cell_type": "code",
   "execution_count": 27,
   "metadata": {
    "collapsed": false
   },
   "outputs": [
    {
     "data": {
      "text/plain": [
       "(-2.0686576104190406, 2.0686576104190406)"
      ]
     },
     "execution_count": 27,
     "metadata": {},
     "output_type": "execute_result"
    }
   ],
   "source": [
    "sp.stats.t.interval(.95, dof)"
   ]
  },
  {
   "cell_type": "code",
   "execution_count": 35,
   "metadata": {
    "collapsed": false
   },
   "outputs": [
    {
     "name": "stdout",
     "output_type": "stream",
     "text": [
      "Lower Bound:  5.91055542397 \n",
      "Upper Bound:  10.0190279094\n"
     ]
    }
   ],
   "source": [
    "upperbound = mean_difference + sp.stats.t.interval(.95, dof)[1] * sem\n",
    "lowerbound = mean_difference + sp.stats.t.interval(.95, dof)[0] * sem\n",
    "print \"Lower Bound: \", lowerbound, \"\\n\", \"Upper Bound: \", upperbound"
   ]
  },
  {
   "cell_type": "markdown",
   "metadata": {},
   "source": [
    "We're 95% confident that our difference falls within this range.  "
   ]
  },
  {
   "cell_type": "markdown",
   "metadata": {},
   "source": [
    "## Conclusions"
   ]
  },
  {
   "cell_type": "code",
   "execution_count": 36,
   "metadata": {
    "collapsed": false
   },
   "outputs": [
    {
     "data": {
      "text/plain": [
       "7.9647916666666658"
      ]
     },
     "execution_count": 36,
     "metadata": {},
     "output_type": "execute_result"
    }
   ],
   "source": [
    "mean_difference"
   ]
  },
  {
   "cell_type": "markdown",
   "metadata": {},
   "source": [
    "Mean Difference 7.97s : CI 95%: (5.51, 10.42), p < .001, Cohen's D = 1.89\n",
    "\n",
    "From the analysis it is clear there is a significant increase in time taken on the test when the words are incongruent with their colors.  \n",
    "\n",
    "As for effect size, Cohen's D shows the mean time to identify all cards for the incongruence case is higher than $\\approx$ 96% of the times in the congruent case.  \n",
    "\n"
   ]
  },
  {
   "cell_type": "markdown",
   "metadata": {},
   "source": [
    "# Additional Stats"
   ]
  },
  {
   "cell_type": "markdown",
   "metadata": {},
   "source": [
    "#### Cohen's D: \n",
    "how large is the effect?"
   ]
  },
  {
   "cell_type": "markdown",
   "metadata": {},
   "source": [
    "we need pooled variance\n",
    "reference: https://en.wikipedia.org/wiki/Pooled_variance\n",
    "recall:\n",
    "$$S_p^2 = \\frac{(n_i - 1)S_i^2 + (n_c - 1)S_c^2}{(n_i - 1) + (n_c - 1)}$$"
   ]
  },
  {
   "cell_type": "markdown",
   "metadata": {
    "collapsed": true
   },
   "source": [
    "recall: \n",
    "\n",
    "$$Cohen's\\;D = \\frac{\\bar{x} - \\mu}{\\sigma}$$\n",
    "\n",
    "$$Cohen's\\;D = \\frac{7.965 - 0}{4.224}$$"
   ]
  },
  {
   "cell_type": "code",
   "execution_count": 37,
   "metadata": {
    "collapsed": false
   },
   "outputs": [
    {
     "name": "stdout",
     "output_type": "stream",
     "text": [
      "pooled sigma =  4.22378894518\n"
     ]
    }
   ],
   "source": [
    "var_congruence = stroop['Congruent'].var()\n",
    "var_incongruence = stroop['Incongruent'].var()\n",
    "\n",
    "pooled_variance =((n_congruence - 1)*var_congruence + (n_incongruence - 1)*var_incongruence)/(float(n_congruence - 1) + float(n_incongruence - 1))\n",
    "pooled_std = np.sqrt(pooled_variance)\n",
    "print \"pooled sigma = \", pooled_std"
   ]
  },
  {
   "cell_type": "code",
   "execution_count": 38,
   "metadata": {
    "collapsed": false
   },
   "outputs": [
    {
     "name": "stdout",
     "output_type": "stream",
     "text": [
      "cohen's d =  1.88569830786\n"
     ]
    }
   ],
   "source": [
    "cohens_d = (mean_difference - 0)/float(pooled_std)\n",
    "print \"cohen's d = \", cohens_d"
   ]
  },
  {
   "cell_type": "code",
   "execution_count": 127,
   "metadata": {
    "collapsed": false
   },
   "outputs": [
    {
     "name": "stdout",
     "output_type": "stream",
     "text": [
      "percentile of cohen's D 0.967190965473\n"
     ]
    }
   ],
   "source": [
    "print \"percentile of cohen's D\", sp.stats.t.cdf(1.886, dof)"
   ]
  },
  {
   "cell_type": "markdown",
   "metadata": {
    "collapsed": true
   },
   "source": [
    "The **Incongruent Mean** has a mean that would be in the **96th percentile** of the **Congruent Mean**.  \n",
    "\n",
    "By this measure, this effect is large.  "
   ]
  },
  {
   "cell_type": "markdown",
   "metadata": {
    "collapsed": true
   },
   "source": [
    "#### Calculate: R^2"
   ]
  },
  {
   "cell_type": "markdown",
   "metadata": {},
   "source": [
    "How much of the difference is from the independent variable congruence/incongruence"
   ]
  },
  {
   "cell_type": "markdown",
   "metadata": {},
   "source": [
    "recall: \n",
    "$$R^2 = \\frac{t^2}{(t^2 + dof)}$$\n",
    "$$R^2 = \\frac{t^2}{(t^2 + dof)}$$"
   ]
  },
  {
   "cell_type": "code",
   "execution_count": 39,
   "metadata": {
    "collapsed": false
   },
   "outputs": [
    {
     "name": "stdout",
     "output_type": "stream",
     "text": [
      "R^2 =  0.736636416145\n"
     ]
    }
   ],
   "source": [
    "r_squared = t**2/(t**2 + dof)\n",
    "print \"R^2 = \", r_squared"
   ]
  },
  {
   "cell_type": "markdown",
   "metadata": {
    "collapsed": true
   },
   "source": [
    "By this measure, it appears the $\\approx$73.7% of the change can be explained by the model.  "
   ]
  },
  {
   "cell_type": "code",
   "execution_count": null,
   "metadata": {
    "collapsed": true
   },
   "outputs": [],
   "source": []
  },
  {
   "cell_type": "code",
   "execution_count": null,
   "metadata": {
    "collapsed": true
   },
   "outputs": [],
   "source": []
  },
  {
   "cell_type": "code",
   "execution_count": null,
   "metadata": {
    "collapsed": true
   },
   "outputs": [],
   "source": []
  },
  {
   "cell_type": "code",
   "execution_count": null,
   "metadata": {
    "collapsed": true
   },
   "outputs": [],
   "source": []
  },
  {
   "cell_type": "code",
   "execution_count": null,
   "metadata": {
    "collapsed": true
   },
   "outputs": [],
   "source": []
  },
  {
   "cell_type": "code",
   "execution_count": null,
   "metadata": {
    "collapsed": true
   },
   "outputs": [],
   "source": []
  },
  {
   "cell_type": "code",
   "execution_count": null,
   "metadata": {
    "collapsed": true
   },
   "outputs": [],
   "source": []
  },
  {
   "cell_type": "code",
   "execution_count": null,
   "metadata": {
    "collapsed": true
   },
   "outputs": [],
   "source": []
  },
  {
   "cell_type": "code",
   "execution_count": null,
   "metadata": {
    "collapsed": true
   },
   "outputs": [],
   "source": []
  },
  {
   "cell_type": "code",
   "execution_count": null,
   "metadata": {
    "collapsed": true
   },
   "outputs": [],
   "source": []
  },
  {
   "cell_type": "code",
   "execution_count": null,
   "metadata": {
    "collapsed": true
   },
   "outputs": [],
   "source": []
  },
  {
   "cell_type": "code",
   "execution_count": null,
   "metadata": {
    "collapsed": true
   },
   "outputs": [],
   "source": []
  },
  {
   "cell_type": "code",
   "execution_count": null,
   "metadata": {
    "collapsed": true
   },
   "outputs": [],
   "source": []
  },
  {
   "cell_type": "code",
   "execution_count": null,
   "metadata": {
    "collapsed": true
   },
   "outputs": [],
   "source": []
  }
 ],
 "metadata": {
  "kernelspec": {
   "display_name": "Python 2",
   "language": "python",
   "name": "python2"
  },
  "language_info": {
   "codemirror_mode": {
    "name": "ipython",
    "version": 2
   },
   "file_extension": ".py",
   "mimetype": "text/x-python",
   "name": "python",
   "nbconvert_exporter": "python",
   "pygments_lexer": "ipython2",
   "version": "2.7.9"
  }
 },
 "nbformat": 4,
 "nbformat_minor": 0
}
